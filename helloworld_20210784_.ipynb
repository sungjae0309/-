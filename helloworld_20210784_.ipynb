{
  "nbformat": 4,
  "nbformat_minor": 0,
  "metadata": {
    "colab": {
      "name": "helloworld_20210784 .ipynb",
      "provenance": [],
      "authorship_tag": "ABX9TyOOloV6oBIj5qnFtahOhLRn",
      "include_colab_link": true
    },
    "kernelspec": {
      "name": "python3",
      "display_name": "Python 3"
    },
    "language_info": {
      "name": "python"
    }
  },
  "cells": [
    {
      "cell_type": "markdown",
      "metadata": {
        "id": "view-in-github",
        "colab_type": "text"
      },
      "source": [
        "<a href=\"https://colab.research.google.com/github/sungjae0309/-/blob/main/helloworld_20210784_.ipynb\" target=\"_parent\"><img src=\"https://colab.research.google.com/assets/colab-badge.svg\" alt=\"Open In Colab\"/></a>"
      ]
    },
    {
      "cell_type": "code",
      "metadata": {
        "colab": {
          "base_uri": "https://localhost:8080/"
        },
        "id": "JSC4YxSVxc1B",
        "outputId": "8108611f-4a16-49c2-fa26-d40e583843fc"
      },
      "source": [
        "print(\"Hello world!!\")\n",
        "id = 20210784\n",
        "print(id)"
      ],
      "execution_count": 1,
      "outputs": [
        {
          "output_type": "stream",
          "text": [
            "Hello world!!\n",
            "20210784\n"
          ],
          "name": "stdout"
        }
      ]
    }
  ]
}